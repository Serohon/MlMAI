{
  "metadata": {
    "colab": {
      "provenance": []
    },
    "gpuClass": "standard",
    "vscode": {
      "interpreter": {
        "hash": "e4cce46d6be9934fbd27f9ca0432556941ea5bdf741d4f4d64c6cd7f8dfa8fba"
      }
    },
    "kernelspec": {
      "name": "python",
      "display_name": "Python (Pyodide)",
      "language": "python"
    },
    "language_info": {
      "codemirror_mode": {
        "name": "ipython",
        "version": 3
      },
      "file_extension": ".py",
      "mimetype": "text/x-python",
      "name": "python",
      "nbconvert_exporter": "python",
      "pygments_lexer": "ipython3",
      "version": "3.8.15"
    }
  },
  "nbformat_minor": 4,
  "nbformat": 4,
  "cells": [
    {
      "cell_type": "code",
      "source": "import pandas as pd\nimport numpy as np\nfrom matplotlib import pyplot as plt\nimport seaborn \nimport plotly.express as px",
      "metadata": {
        "id": "y3DiadTG-ru-"
      },
      "execution_count": 1,
      "outputs": []
    },
    {
      "cell_type": "markdown",
      "source": "# Домашняя работа: деревья решений",
      "metadata": {
        "id": "-QpBS-Nd-fAO"
      }
    },
    {
      "cell_type": "markdown",
      "source": "В этой домашней работе вам предстоит научиться предсказывать цены товаров из маркетплейса Azamon.\n\nТребования к домашней работе:\n- Во всех графиках должны быть подписи через title, legend, etc.\n- Во время обучения моделей проверяйте, что у вас не текут данные. Обычно это позитивно влияет на качество модели на тесте, но негативно влияет на оценку 🌚\n- Если вы сдаете работу в Google Colaboratory, убедитесь, что ваша тетрадка доступна по ссылке.\n- Использование мемов допускается, но необходимо соблюдать меру. Несодержательная работа, состоящая только из мемов, получает 0 баллов.",
      "metadata": {
        "id": "1ZVCYFgU-5Tw"
      }
    },
    {
      "cell_type": "markdown",
      "source": "# Загрузка и подготовка данных",
      "metadata": {
        "id": "JyTAlXb8CbXk"
      }
    },
    {
      "cell_type": "code",
      "source": "df = pd.read_csv('amazon_co-ecommerce_sample.csv').drop(columns=[\n    'product_name',\n    'index',\n    'uniq_id',\n    'customers_who_bought_this_item_also_bought',\n    'items_customers_buy_after_viewing_this_item',\n    'sellers',\n    'description', # text\n    'product_information', # text\n    'product_description', # text\n    'customer_questions_and_answers', # text\n    'customer_reviews', # text\n])",
      "metadata": {},
      "execution_count": 10,
      "outputs": []
    },
    {
      "cell_type": "markdown",
      "source": "## Очистка данных (1 балл)\n\nПосмотрите на признаки. Есть ли в них пропуски? Какое соотношение между NaN'ами и общим количеством данных? Есть ли смысл выкидывать какие-либо данные из этого датасета?",
      "metadata": {
        "id": "O59k78A8C_yP"
      }
    },
    {
      "cell_type": "code",
      "source": "df.isnull().sum() # NaN",
      "metadata": {},
      "execution_count": null,
      "outputs": []
    },
    {
      "cell_type": "code",
      "source": "manufacturer                           7\nprice                               1435\nnumber_available_in_stock           2500\nnumber_of_reviews                     18\nnumber_of_answered_questions         765\naverage_review_rating                 18\namazon_category_and_sub_category     690\ndtype: int64",
      "metadata": {},
      "execution_count": null,
      "outputs": []
    },
    {
      "cell_type": "code",
      "source": "df.isnull().sum() / (df.notnull().sum() + df.isnull().sum()) #соотношение между NaN'ами и общим количеством данных\n",
      "metadata": {},
      "execution_count": null,
      "outputs": []
    },
    {
      "cell_type": "code",
      "source": "manufacturer                        0.0007\nprice                               0.1435\nnumber_available_in_stock           0.2500\nnumber_of_reviews                   0.0018\nnumber_of_answered_questions        0.0765\naverage_review_rating               0.0018\namazon_category_and_sub_category    0.0690\ndtype: float64",
      "metadata": {},
      "execution_count": null,
      "outputs": []
    },
    {
      "cell_type": "code",
      "source": "df = df.drop(columns = ['number_available_in_stock'])\ndf.head()",
      "metadata": {},
      "execution_count": null,
      "outputs": []
    },
    {
      "cell_type": "markdown",
      "source": "# Подготовка данных (3 балла)\n\nОбработайте признаки. Выполните кодирование категориальных признаков, заполните пропуски в числовых признаках. Обратите внимание, что в датасете есть признак, который разбивается на несколько подпризнаков. Что это за признак? Закодируйте и его.\n\nДополнительные вопросы (+ 1 балл):\n- Какие из признаков в этом датасете лучше кодировать через ordinal encoding?\n- Какие из признаков допустимо кодировать через one-hot?\n\nПрим.: суммарно за эту секцию можно получить до 4 баллов.",
      "metadata": {
        "id": "eH688KdZDdKY"
      }
    },
    {
      "cell_type": "markdown",
      "source": "# Обучение модели (3 балла)",
      "metadata": {
        "id": "JTRoUwANEcn9"
      }
    },
    {
      "cell_type": "code",
      "source": "from sklearn.model_selection import train_test_split\n\ny = df['price']\nX = df.drop(columns = ['price'])\nX_train, X_test, y_train, y_test = train_test_split(X, y, train_size=0.5, random_state=42)",
      "metadata": {},
      "execution_count": null,
      "outputs": []
    },
    {
      "cell_type": "markdown",
      "source": "## Бейзлайн\n\nОбучите базовую модель. Для этого используйте `sklearn.dummy.DummyRegressor`. Какое качество она показывает на тесте? Посчитайте MSE, RMSE.",
      "metadata": {
        "id": "AyVaKKT7FFo5"
      }
    },
    {
      "cell_type": "code",
      "source": "from sklearn.dummy import DummyRegressor\nfrom sklearn.metrics import mean_squared_error\nfrom sklearn.metrics import r2_score\n\ndummy_regr = DummyRegressor(strategy=\"mean\").fit(X_train, y_train)\ny_pred = dummy_regr.predict(X_test)\nmse = mean_squared_error(y_test, y_pred)\nprint(\"MSE = \", mse)\n\nrmse = np.sqrt(mse)\nprint(\"RMSE = \",rmse)\n\nr2 = r2_score(y_test, y_pred)\nprint(r2)\n\n\nMSE =  1542.4419897696644\nRMSE =  39.27393524679777\n-0.00779236230335667",
      "metadata": {},
      "execution_count": null,
      "outputs": []
    },
    {
      "cell_type": "markdown",
      "source": "## Дерево решений\n\nОбучите регрессионное дерево решений, проверьте качество этой модели на тестовой выборке. Улучшилось ли качество по сравнению с базовой моделью? Оцените r2_score обученной модели.",
      "metadata": {
        "id": "rVW-MtPgF_vE"
      }
    },
    {
      "cell_type": "code",
      "source": "from sklearn.tree import DecisionTreeRegressor\n\nclf = DecisionTreeRegressor()\nclf = clf.fit(X_train, y_train)\ny_pred = clf.predict(X_test)\n\nr2 = r2_score(y_test, y_pred)\nprint(r2)\n\n-22.168505450255612",
      "metadata": {},
      "execution_count": null,
      "outputs": []
    },
    {
      "cell_type": "markdown",
      "source": "# Гиперпараметры (2 балла)\n\nПереберите несколько гиперпараметров (не более двух-трёх). Обратите внимание, как эти параметры влияют на ошибку модели на тестовой выборке. Постройте для глубины дерева график переобучения (fitting curve) аналогичный тому, что мы строили на занятии. Найдите глубину дерева, начиная с которой модель начинает переобучаться.",
      "metadata": {
        "id": "3J71riX2Guj3"
      }
    },
    {
      "cell_type": "code",
      "source": "#",
      "metadata": {},
      "execution_count": null,
      "outputs": []
    },
    {
      "cell_type": "markdown",
      "source": "## Линейная регрессия\n\nПопробуйте обучить линейную регрессию с параметрами по умолчанию. Оцените r2_score на тестовой выборке. Сравните качество с деревом решений. ",
      "metadata": {
        "id": "viVY_kUMG7Jv"
      }
    },
    {
      "cell_type": "code",
      "source": "from sklearn.linear_model import LinearRegression\n\nreg = LinearRegression().fit(X_train, y_train)\n\ny_pred = reg.predict(X_test)\n\nr2 = r2_score(y_test, y_pred)\nprint(r2)\n\n-6.309106086736809e+19",
      "metadata": {},
      "execution_count": null,
      "outputs": []
    },
    {
      "cell_type": "markdown",
      "source": "# Простое ансамблирование (1 балл)\n\nВ этой секции мы реализуем простой ансамбль деревьев.",
      "metadata": {
        "id": "rJlf6gJ9RBhf"
      }
    },
    {
      "cell_type": "code",
      "source": "class EnsembleTreeRegressor:\n    def __init__(self, num_trees=5, samples_frac=0.8, **model_kwargs):\n        self.num_trees= num_trees\n        self._samples_frac = 0.8\n        self._trees = [DecisionTreeRegressor(**model_kwargs) for _ in range(num_trees)]\n    def fit(self, x, y: pd.Series):\n        x = pd.DataFrame(x)\n        y = y.reset_index(drop=True)\n        for tree in self._trees:\n            tree_x = x.sample(frac=self._samples_frac, random_state=42)\n            tree_y = y[tree_x.index]\n            tree.fit(tree_x, tree_y)\n        return self\n\n    def predict(self, x: pd.DataFrame):\n        x = pd.DataFrame(x)\n        res = []\n        for i in range(self.num_trees):\n          res.append(self._trees[i].predict(x))\n        return sum(res) / len(res)",
      "metadata": {
        "id": "Ht7wq9TqUfvZ"
      },
      "execution_count": 523,
      "outputs": []
    },
    {
      "cell_type": "markdown",
      "source": "Проверьте, работает ли этот ансамбль лучше обычного дерева с параметрами по умолчанию?\n\nДополнительно переберите максимальную глубину дерева. Проверьте, насколько отличается момент начала переобучения у одиночного дерева и у ансамбля. Зависит ли этот момент от числа деревьев (`num_trees`)? От числа примеров для каждого дерева (`samples_frac`)? Постройте график fitting curve.",
      "metadata": {
        "id": "FCxogZPuVZCF"
      }
    }
  ]
}